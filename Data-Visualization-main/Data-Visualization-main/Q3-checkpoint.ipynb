{
 "cells": [
  {
   "cell_type": "code",
   "execution_count": 3,
   "id": "12b5429b",
   "metadata": {},
   "outputs": [
    {
     "name": "stderr",
     "output_type": "stream",
     "text": [
      "BokehDeprecationWarning: 'get_provider' was deprecated in Bokeh 3.0.0 and will be removed, use 'add_tile directly' instead.\n"
     ]
    }
   ],
   "source": [
    "from bokeh.io import output_file, show\n",
    "from bokeh.plotting import figure\n",
    "from bokeh.tile_providers import get_provider, Vendors\n",
    "\n",
    "# Bokeh Tile Plot\n",
    "output_file(\"geospatial_data.html\")\n",
    "tile_provider = get_provider(Vendors.CARTODBPOSITRON)\n",
    "\n",
    "# Create a map\n",
    "plot = figure(title=\"Geospatial Data\", x_axis_type=\"mercator\", y_axis_type=\"mercator\")\n",
    "plot.add_tile(tile_provider)\n",
    "\n",
    "# Example coordinates (latitude/longitude converted to Mercator)\n",
    "x_coords = [-8238310, -8239900, -8241500]\n",
    "y_coords = [4970355, 4969990, 4969625]\n",
    "\n",
    "plot.circle(x=x_coords, y=y_coords, size=10, color=\"blue\", alpha=0.7)\n",
    "show(plot)\n"
   ]
  },
  {
   "cell_type": "code",
   "execution_count": null,
   "id": "53ba6303",
   "metadata": {},
   "outputs": [],
   "source": []
  }
 ],
 "metadata": {
  "kernelspec": {
   "display_name": "Python 3 (ipykernel)",
   "language": "python",
   "name": "python3"
  },
  "language_info": {
   "codemirror_mode": {
    "name": "ipython",
    "version": 3
   },
   "file_extension": ".py",
   "mimetype": "text/x-python",
   "name": "python",
   "nbconvert_exporter": "python",
   "pygments_lexer": "ipython3",
   "version": "3.11.4"
  }
 },
 "nbformat": 4,
 "nbformat_minor": 5
}
