{
 "cells": [
  {
   "cell_type": "code",
   "execution_count": 3,
   "id": "ff7cfcbe",
   "metadata": {},
   "outputs": [
    {
     "name": "stdout",
     "output_type": "stream",
     "text": [
      "Title of the page: Example Domain\n"
     ]
    }
   ],
   "source": [
    "import requests\n",
    "from bs4 import BeautifulSoup\n",
    "\n",
    "# Retrieve webpage\n",
    "url = \"http://example.com\"\n",
    "response = requests.get(url)\n",
    "soup = BeautifulSoup(response.content, 'html.parser')\n",
    "\n",
    "# Parse and display data\n",
    "print(\"Title of the page:\", soup.title.string)\n",
    "\n",
    "# Download an image\n",
    "image_url = \"https://via.placeholder.com/150\"\n",
    "img_response = requests.get(image_url)\n",
    "with open(\"downloaded_image.jpg\", \"wb\") as f:\n",
    "    f.write(img_response.content)\n"
   ]
  },
  {
   "cell_type": "code",
   "execution_count": 4,
   "id": "f610e5d7",
   "metadata": {},
   "outputs": [
    {
     "name": "stdout",
     "output_type": "stream",
     "text": [
      "Quotes and Authors:\n",
      "\"“The world as we have created it is a process of our thinking. It cannot be changed without changing our thinking.”\" - Albert Einstein\n",
      "\"“It is our choices, Harry, that show what we truly are, far more than our abilities.”\" - J.K. Rowling\n",
      "\"“There are only two ways to live your life. One is as though nothing is a miracle. The other is as though everything is a miracle.”\" - Albert Einstein\n",
      "\"“The person, be it gentleman or lady, who has not pleasure in a good novel, must be intolerably stupid.”\" - Jane Austen\n",
      "\"“Imperfection is beauty, madness is genius and it's better to be absolutely ridiculous than absolutely boring.”\" - Marilyn Monroe\n",
      "\"“Try not to become a man of success. Rather become a man of value.”\" - Albert Einstein\n",
      "\"“It is better to be hated for what you are than to be loved for what you are not.”\" - André Gide\n",
      "\"“I have not failed. I've just found 10,000 ways that won't work.”\" - Thomas A. Edison\n",
      "\"“A woman is like a tea bag; you never know how strong it is until it's in hot water.”\" - Eleanor Roosevelt\n",
      "\"“A day without sunshine is like, you know, night.”\" - Steve Martin\n",
      "Image downloaded and saved in the 'images' folder.\n"
     ]
    }
   ],
   "source": [
    "import requests\n",
    "from bs4 import BeautifulSoup\n",
    "import os\n",
    "\n",
    "# Web scraping\n",
    "url = \"https://quotes.toscrape.com/\"\n",
    "response = requests.get(url)\n",
    "soup = BeautifulSoup(response.content, \"html.parser\")\n",
    "\n",
    "# Extract and print quotes\n",
    "quotes = soup.find_all(\"span\", class_=\"text\")\n",
    "authors = soup.find_all(\"small\", class_=\"author\")\n",
    "\n",
    "print(\"Quotes and Authors:\")\n",
    "for quote, author in zip(quotes, authors):\n",
    "    print(f\"\\\"{quote.text}\\\" - {author.text}\")\n",
    "\n",
    "# Download and save an image\n",
    "image_url = \"https://via.placeholder.com/300\"\n",
    "image_response = requests.get(image_url)\n",
    "\n",
    "os.makedirs(\"images\", exist_ok=True)\n",
    "with open(\"images/sample_image.jpg\", \"wb\") as img_file:\n",
    "    img_file.write(image_response.content)\n",
    "print(\"Image downloaded and saved in the 'images' folder.\")\n"
   ]
  }
 ],
 "metadata": {
  "kernelspec": {
   "display_name": "Python 3 (ipykernel)",
   "language": "python",
   "name": "python3"
  },
  "language_info": {
   "codemirror_mode": {
    "name": "ipython",
    "version": 3
   },
   "file_extension": ".py",
   "mimetype": "text/x-python",
   "name": "python",
   "nbconvert_exporter": "python",
   "pygments_lexer": "ipython3",
   "version": "3.11.4"
  }
 },
 "nbformat": 4,
 "nbformat_minor": 5
}
