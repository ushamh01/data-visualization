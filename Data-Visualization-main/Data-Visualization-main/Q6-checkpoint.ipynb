{
 "cells": [
  {
   "cell_type": "code",
   "execution_count": 6,
   "id": "22b21acc",
   "metadata": {},
   "outputs": [
    {
     "name": "stdout",
     "output_type": "stream",
     "text": [
      "To: Tove\n",
      "From: Jani\n",
      "Heading: Reminder\n",
      "Body: Don't forget me this weekend!\n"
     ]
    }
   ],
   "source": [
    "import xml.etree.ElementTree as ET\n",
    "\n",
    "# XML Data\n",
    "data = \"\"\"\n",
    "<note>\n",
    "  <to>Tove</to>\n",
    "  <from>Jani</from>\n",
    "  <heading>Reminder</heading>\n",
    "  <body>Don't forget me this weekend!</body>\n",
    "</note>\n",
    "\"\"\"\n",
    "\n",
    "# Parse XML\n",
    "root = ET.fromstring(data)\n",
    "\n",
    "# Display parsed data\n",
    "print(\"To:\", root.find('to').text)\n",
    "print(\"From:\", root.find('from').text)\n",
    "print(\"Heading:\", root.find('heading').text)\n",
    "print(\"Body:\", root.find('body').text)\n"
   ]
  },
  {
   "cell_type": "code",
   "execution_count": 5,
   "id": "7848c5cf",
   "metadata": {},
   "outputs": [
    {
     "name": "stdout",
     "output_type": "stream",
     "text": [
      "Library Books:\n",
      "Title: Python for Data Analysis, Author: Wes McKinney, Year: 2017\n",
      "Title: Fluent Python, Author: Luciano Ramalho, Year: 2015\n"
     ]
    }
   ],
   "source": [
    "import xml.etree.ElementTree as ET\n",
    "\n",
    "# Sample XML\n",
    "data = \"\"\"\n",
    "<library>\n",
    "    <book id=\"1\">\n",
    "        <title>Python for Data Analysis</title>\n",
    "        <author>Wes McKinney</author>\n",
    "        <year>2017</year>\n",
    "    </book>\n",
    "    <book id=\"2\">\n",
    "        <title>Fluent Python</title>\n",
    "        <author>Luciano Ramalho</author>\n",
    "        <year>2015</year>\n",
    "    </book>\n",
    "</library>\n",
    "\"\"\"\n",
    "\n",
    "# Parse XML\n",
    "root = ET.fromstring(data)\n",
    "\n",
    "# Extract and display book information\n",
    "print(\"Library Books:\")\n",
    "for book in root.findall('book'):\n",
    "    title = book.find('title').text\n",
    "    author = book.find('author').text\n",
    "    year = book.find('year').text\n",
    "    print(f\"Title: {title}, Author: {author}, Year: {year}\")\n"
   ]
  },
  {
   "cell_type": "code",
   "execution_count": null,
   "id": "9a3d6005",
   "metadata": {},
   "outputs": [],
   "source": []
  }
 ],
 "metadata": {
  "kernelspec": {
   "display_name": "Python 3 (ipykernel)",
   "language": "python",
   "name": "python3"
  },
  "language_info": {
   "codemirror_mode": {
    "name": "ipython",
    "version": 3
   },
   "file_extension": ".py",
   "mimetype": "text/x-python",
   "name": "python",
   "nbconvert_exporter": "python",
   "pygments_lexer": "ipython3",
   "version": "3.11.4"
  }
 },
 "nbformat": 4,
 "nbformat_minor": 5
}
